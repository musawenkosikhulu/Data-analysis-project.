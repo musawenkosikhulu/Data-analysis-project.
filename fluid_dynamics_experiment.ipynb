{
  "nbformat": 4,
  "nbformat_minor": 0,
  "metadata": {
    "colab": {
      "name": "fluid dynamics experiment.ipynb",
      "provenance": [],
      "collapsed_sections": [],
      "authorship_tag": "ABX9TyMy7wE0ZUlTj10GMi4CE+ys",
      "include_colab_link": true
    },
    "kernelspec": {
      "name": "python3",
      "display_name": "Python 3"
    },
    "language_info": {
      "name": "python"
    }
  },
  "cells": [
    {
      "cell_type": "markdown",
      "metadata": {
        "id": "view-in-github",
        "colab_type": "text"
      },
      "source": [
        "<a href=\"https://colab.research.google.com/github/musawenkosikhulu/Data-analysis-project./blob/main/fluid_dynamics_experiment.ipynb\" target=\"_parent\"><img src=\"https://colab.research.google.com/assets/colab-badge.svg\" alt=\"Open In Colab\"/></a>"
      ]
    },
    {
      "cell_type": "code",
      "execution_count": 36,
      "metadata": {
        "colab": {
          "base_uri": "https://localhost:8080/"
        },
        "id": "lT3ib4WbX8nk",
        "outputId": "8ae22fd5-0c9b-4b09-ba68-695d863083c7"
      },
      "outputs": [
        {
          "output_type": "stream",
          "name": "stdout",
          "text": [
            "0.1379292565812073 6.474672739319187\n"
          ]
        }
      ],
      "source": [
        "import numpy as np\n",
        "import matplotlib.pyplot as plt\n",
        "\n",
        "\n",
        "time = [8.575,9.6,9.925,10.5,11,11.45,11.875,12.175,12.475]\n",
        "r_avg = [10,15,20,30,45,60,90,100,120]\n",
        "time_log = list()\n",
        "r_avg_log = list()\n",
        "best = list()\n",
        "for t in time:\n",
        "  time_log.append(np.log(t))\n",
        "for r in r_avg:\n",
        "  r_avg_log.append(np.log(r))\n",
        "a, b = np.polyfit(r_avg_log, time_log, 1)\n",
        "for k in r_avg_log:\n",
        "  best.append(k*(a)+b)\n",
        "print(a,np.exp(b))\n",
        "#plt.scatter(r_avg_log,time_log)\n",
        "#plt.xlabel(\"log of average radii(cm)\")\n",
        "#plt.ylabel(\"log of time(s)\")\n",
        "#plt.title(\"$In r ~vs~ In t $\")\n",
        "#plt.plot(r_avg_log, best,color='r')\n",
        "#plt.savefig('books_read.png')"
      ]
    }
  ]
}